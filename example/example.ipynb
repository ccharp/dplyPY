{
 "cells": [
  {
   "cell_type": "code",
   "execution_count": 1,
   "metadata": {},
   "outputs": [],
   "source": [
    "import numpy as np\n",
    "import pandas as pd\n",
    "import seaborn as sns\n",
    "import dplypy.dplypy as dp"
   ]
  },
  {
   "cell_type": "code",
   "execution_count": 3,
   "metadata": {
    "scrolled": false
   },
   "outputs": [],
   "source": [
    "df = dp.DplyFrame(sns.load_dataset(\"titanic\"))\n",
    "\n",
    "test_df_1 = df.head(5)\n",
    "test_df_2 = df.tail(5)\n",
    "test_df_3 = dp.DplyFrame(\n",
    "    test_df_1.pandas_df.loc[:, [\"survived\", \"pclass\", \"age\", \"sibsp\"]]\n",
    ")\n",
    "test_df_4 = dp.DplyFrame(\n",
    "    test_df_2.pandas_df.loc[:, [\"survived\", \"pclass\", \"age\", \"sibsp\"]]\n",
    ")"
   ]
  },
  {
   "cell_type": "markdown",
   "metadata": {},
   "source": [
    "# melt + pivot_table"
   ]
  },
  {
   "cell_type": "code",
   "execution_count": 4,
   "metadata": {},
   "outputs": [],
   "source": [
    "test1 = (\n",
    "    test_df_1\n",
    "    + dp.melt(id_vars=[\"who\"], value_vars=[\"fare\"])\n",
    "    + dp.pivot_table(index=[\"who\"], values=[\"value\"], aggfunc=min)\n",
    ")"
   ]
  },
  {
   "cell_type": "code",
   "execution_count": 5,
   "metadata": {},
   "outputs": [
    {
     "data": {
      "text/plain": [
       "       value\n",
       "who         \n",
       "man    7.250\n",
       "woman  7.925"
      ]
     },
     "execution_count": 5,
     "metadata": {},
     "output_type": "execute_result"
    }
   ],
   "source": [
    "test1"
   ]
  },
  {
   "cell_type": "markdown",
   "metadata": {},
   "source": [
    "# one_hot + write_file"
   ]
  },
  {
   "cell_type": "code",
   "execution_count": 6,
   "metadata": {},
   "outputs": [],
   "source": [
    "test2 = test_df_1 + dp.one_hot(columns=[\"embarked\"]) + dp.write_file(\"one_hot.csv\")"
   ]
  },
  {
   "cell_type": "markdown",
   "metadata": {},
   "source": [
    "# drop + fill_na + count_null"
   ]
  },
  {
   "cell_type": "code",
   "execution_count": 7,
   "metadata": {},
   "outputs": [],
   "source": [
    "test_3 = (\n",
    "    test_df_1\n",
    "    + dp.drop(labels=[\"survived\", \"pclass\"], axis=1)\n",
    "    + dp.fill_na(value={\"deck\": \"A\"})\n",
    "    + dp.count_null(\"deck\")\n",
    ")"
   ]
  },
  {
   "cell_type": "code",
   "execution_count": 8,
   "metadata": {},
   "outputs": [
    {
     "data": {
      "text/plain": [
       "0"
      ]
     },
     "execution_count": 8,
     "metadata": {},
     "output_type": "execute_result"
    }
   ],
   "source": [
    "test_3"
   ]
  },
  {
   "cell_type": "markdown",
   "metadata": {},
   "source": [
    "# query + apply"
   ]
  },
  {
   "cell_type": "code",
   "execution_count": 10,
   "metadata": {},
   "outputs": [],
   "source": [
    "test_4 = test_df_3 + dp.select(\"age > 25\") + dp.mutate(lambda b: b + 100)"
   ]
  },
  {
   "cell_type": "code",
   "execution_count": 11,
   "metadata": {},
   "outputs": [
    {
     "data": {
      "text/plain": [
       "   survived  pclass    age  sibsp\n",
       "1       101     101  138.0    101\n",
       "2       101     103  126.0    100\n",
       "3       101     101  135.0    101\n",
       "4       100     103  135.0    100"
      ]
     },
     "execution_count": 11,
     "metadata": {},
     "output_type": "execute_result"
    }
   ],
   "source": [
    "test_4"
   ]
  },
  {
   "cell_type": "markdown",
   "metadata": {},
   "source": [
    "# merge + drop_na"
   ]
  },
  {
   "cell_type": "code",
   "execution_count": 12,
   "metadata": {},
   "outputs": [],
   "source": [
    "test_5 = test_df_3 + dp.merge(test_df_4, on=\"pclass\", how=\"outer\") + dp.drop_na()"
   ]
  },
  {
   "cell_type": "code",
   "execution_count": 13,
   "metadata": {},
   "outputs": [
    {
     "data": {
      "text/plain": [
       "   survived_x  pclass  age_x  sibsp_x  survived_y  age_y  sibsp_y\n",
       "1         0.0       3   22.0      1.0           0   32.0        0\n",
       "3         1.0       3   26.0      0.0           0   32.0        0\n",
       "5         0.0       3   35.0      0.0           0   32.0        0\n",
       "6         1.0       1   38.0      1.0           1   19.0        0\n",
       "7         1.0       1   38.0      1.0           1   26.0        0\n",
       "8         1.0       1   35.0      1.0           1   19.0        0\n",
       "9         1.0       1   35.0      1.0           1   26.0        0"
      ]
     },
     "execution_count": 13,
     "metadata": {},
     "output_type": "execute_result"
    }
   ],
   "source": [
    "test_5"
   ]
  },
  {
   "cell_type": "markdown",
   "metadata": {},
   "source": [
    "# filter + arrange"
   ]
  },
  {
   "cell_type": "code",
   "execution_count": 14,
   "metadata": {},
   "outputs": [],
   "source": [
    "test_6 = test_df_3 + dp.filter(test_df_3[\"survived\"] == 1) + dp.arrange(by=[\"age\"])"
   ]
  },
  {
   "cell_type": "code",
   "execution_count": 15,
   "metadata": {},
   "outputs": [
    {
     "data": {
      "text/plain": [
       "   survived  pclass   age  sibsp\n",
       "2         1       3  26.0      0\n",
       "3         1       1  35.0      1\n",
       "1         1       1  38.0      1"
      ]
     },
     "execution_count": 15,
     "metadata": {},
     "output_type": "execute_result"
    }
   ],
   "source": [
    "test_6"
   ]
  }
 ],
 "metadata": {
  "interpreter": {
   "hash": "40d3a090f54c6569ab1632332b64b2c03c39dcf918b08424e98f38b5ae0af88f"
  },
  "kernelspec": {
   "display_name": "Python 3",
   "language": "python",
   "name": "python3"
  },
  "language_info": {
   "codemirror_mode": {
    "name": "ipython",
    "version": 3
   },
   "file_extension": ".py",
   "mimetype": "text/x-python",
   "name": "python",
   "nbconvert_exporter": "python",
   "pygments_lexer": "ipython3",
   "version": "3.8.5"
  }
 },
 "nbformat": 4,
 "nbformat_minor": 2
}
