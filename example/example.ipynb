{
 "cells": [
  {
   "cell_type": "code",
   "execution_count": 13,
   "metadata": {},
   "outputs": [],
   "source": [
    "import numpy as np\n",
    "import pandas as pd\n",
    "import seaborn as sns\n",
    "import dplypy.dplypy as dp"
   ]
  },
  {
   "cell_type": "code",
   "execution_count": 14,
   "metadata": {
    "scrolled": false
   },
   "outputs": [],
   "source": [
    "df = dp.DplyFrame(sns.load_dataset(\"titanic\"))\n",
    "\n",
    "test_df_1 = df.head(5)\n",
    "test_df_2 = df.tail(5)\n",
    "test_df_3 = dp.DplyFrame(\n",
    "    test_df_1.pandas_df.loc[:, [\"survived\", \"pclass\", \"age\", \"sibsp\"]]\n",
    ")\n",
    "test_df_4 = dp.DplyFrame(\n",
    "    test_df_2.pandas_df.loc[:, [\"survived\", \"pclass\", \"age\", \"sibsp\"]]\n",
    ")"
   ]
  },
  {
   "cell_type": "markdown",
   "metadata": {},
   "source": [
    "# melt + pivot_table"
   ]
  },
  {
   "cell_type": "code",
   "execution_count": 15,
   "metadata": {},
   "outputs": [],
   "source": [
    "test1 = (\n",
    "    test_df_1\n",
    "    + dp.melt(id_vars=[\"who\"], value_vars=[\"fare\"])\n",
    "    + dp.pivot_table(index=[\"who\"], values=[\"value\"], aggfunc=min)\n",
    ")"
   ]
  },
  {
   "cell_type": "code",
   "execution_count": 16,
   "metadata": {},
   "outputs": [
    {
     "data": {
      "text/plain": [
       "       value\n",
       "who         \n",
       "man    7.250\n",
       "woman  7.925"
      ]
     },
     "execution_count": 16,
     "metadata": {},
     "output_type": "execute_result"
    }
   ],
   "source": [
    "test1"
   ]
  },
  {
   "cell_type": "markdown",
   "metadata": {},
   "source": [
    "# one_hot + write_file"
   ]
  },
  {
   "cell_type": "code",
   "execution_count": 17,
   "metadata": {},
   "outputs": [],
   "source": [
    "test2 = test_df_1 + dp.one_hot(columns=[\"embarked\"]) + dp.write_file(\"one_hot.csv\")"
   ]
  },
  {
   "cell_type": "markdown",
   "metadata": {},
   "source": [
    "# drop + fill_na + count_null"
   ]
  },
  {
   "cell_type": "code",
   "execution_count": 18,
   "metadata": {},
   "outputs": [],
   "source": [
    "test_3 = (\n",
    "    test_df_1\n",
    "    + dp.drop(labels=[\"survived\", \"pclass\"], axis=1)\n",
    "    + dp.fill_na(value={\"deck\": \"A\"})\n",
    "    + dp.count_null(\"deck\")\n",
    ")"
   ]
  },
  {
   "cell_type": "code",
   "execution_count": 19,
   "metadata": {},
   "outputs": [
    {
     "data": {
      "text/plain": [
       "0"
      ]
     },
     "execution_count": 19,
     "metadata": {},
     "output_type": "execute_result"
    }
   ],
   "source": [
    "(\n",
    "    test_df_1\n",
    "    + dp.drop(labels=[\"survived\", \"pclass\"], axis=1)\n",
    "    + dp.fill_na(value={\"deck\": \"A\"})\n",
    "    + dp.count_null(\"deck\")\n",
    ")"
   ]
  },
  {
   "cell_type": "markdown",
   "metadata": {},
   "source": [
    "# query + apply"
   ]
  },
  {
   "cell_type": "code",
   "execution_count": 20,
   "metadata": {},
   "outputs": [],
   "source": [
    "test_4 = test_df_3 + dp.select(\"age > 25\") + dp.mutate(lambda b: b + 100)"
   ]
  },
  {
   "cell_type": "code",
   "execution_count": 21,
   "metadata": {},
   "outputs": [
    {
     "data": {
      "text/plain": [
       "   survived  pclass    age  sibsp\n",
       "1       101     101  138.0    101\n",
       "2       101     103  126.0    100\n",
       "3       101     101  135.0    101\n",
       "4       100     103  135.0    100"
      ]
     },

     "execution_count": 21,
     "metadata": {},
     "output_type": "execute_result"
    }
   ],
   "source": [
    "test_df_3 + dp.query(\"age > 25\") + dp.apply(lambda b: b + 100)"
   ]
  },
  {
   "cell_type": "markdown",
   "metadata": {},
   "source": [
    "# merge + drop_na"
   ]
  },
  {
   "cell_type": "code",
   "execution_count": 22,
   "metadata": {},
   "outputs": [],
   "source": [
    "test_5 = test_df_3 + dp.merge(test_df_4, on=\"pclass\", how=\"outer\") + dp.drop_na()"
   ]
  },
  {
   "cell_type": "code",
   "execution_count": 23,
   "metadata": {},
   "outputs": [
    {
     "data": {
      "text/plain": [
       "   survived_x  pclass  age_x  sibsp_x  survived_y  age_y  sibsp_y\n",
       "1         0.0       3   22.0      1.0           0   32.0        0\n",
       "3         1.0       3   26.0      0.0           0   32.0        0\n",
       "5         0.0       3   35.0      0.0           0   32.0        0\n",
       "6         1.0       1   38.0      1.0           1   19.0        0\n",
       "7         1.0       1   38.0      1.0           1   26.0        0\n",
       "8         1.0       1   35.0      1.0           1   19.0        0\n",
       "9         1.0       1   35.0      1.0           1   26.0        0"
      ]
     },
     "execution_count": 23,
     "metadata": {},
     "output_type": "execute_result"
    }
   ],
   "source": [
    "test_df_3 + dp.merge(test_df_4, on=\"pclass\", how=\"outer\") + dp.drop_na()"
   ]
  },
  {
   "cell_type": "markdown",
   "metadata": {},
   "source": [
    "# filter + arrange"
   ]
  },
  {
   "cell_type": "code",
   "execution_count": 24,
   "metadata": {},
   "outputs": [],
   "source": [
    "test_6 = test_df_3 + dp.filter(test_df_3[\"survived\"] == 1) + dp.arrange(by=[\"age\"])"
   ]
  },
  {
   "cell_type": "code",
   "execution_count": 25,
   "metadata": {},
   "outputs": [
    {
     "data": {
      "text/plain": [
       "   survived  pclass   age  sibsp\n",
       "2         1       3  26.0      0\n",
       "3         1       1  35.0      1\n",
       "1         1       1  38.0      1"
      ]
     },
     "execution_count": 25,
     "metadata": {},
     "output_type": "execute_result"
    }
   ],
   "source": [
    "test_6"
   ]
  },
  {
   "cell_type": "code",
   "execution_count": 39,
   "metadata": {},
   "outputs": [
    {
     "data": {
      "text/plain": [
       "     survived  pclass     sex    age  sibsp  parch      fare embarked   class    who  adult_male deck  embark_town alive  alone\n",
       "1           1       1  female  38.00      1      0   71.2833        C   First  woman       False    C    Cherbourg   yes  False\n",
       "3           1       1  female  35.00      1      0   53.1000        S   First  woman       False    C  Southampton   yes  False\n",
       "6           0       1    male  54.00      0      0   51.8625        S   First    man        True    E  Southampton    no   True\n",
       "10          1       3  female   4.00      1      1   16.7000        S   Third  child       False    G  Southampton   yes  False\n",
       "11          1       1  female  58.00      0      0   26.5500        S   First  woman       False    C  Southampton   yes   True\n",
       "21          1       2    male  34.00      0      0   13.0000        S  Second    man        True    D  Southampton   yes   True\n",
       "23          1       1    male  28.00      0      0   35.5000        S   First    man        True    A  Southampton   yes   True\n",
       "27          0       1    male  19.00      3      2  263.0000        S   First    man        True    C  Southampton    no  False\n",
       "52          1       1  female  49.00      1      0   76.7292        C   First  woman       False    D    Cherbourg   yes  False\n",
       "54          0       1    male  65.00      0      1   61.9792        C   First    man        True    B    Cherbourg    no  False\n",
       "62          0       1    male  45.00      1      0   83.4750        S   First    man        True    C  Southampton    no  False\n",
       "66          1       2  female  29.00      0      0   10.5000        S  Second  woman       False    F  Southampton   yes   True\n",
       "75          0       3    male  25.00      0      0    7.6500        S   Third    man        True    F  Southampton    no   True\n",
       "88          1       1  female  23.00      3      2  263.0000        S   First  woman       False    C  Southampton   yes  False\n",
       "92          0       1    male  46.00      1      0   61.1750        S   First    man        True    E  Southampton    no  False\n",
       "96          0       1    male  71.00      0      0   34.6542        C   First    man        True    A    Cherbourg    no   True\n",
       "97          1       1    male  23.00      0      1   63.3583        C   First    man        True    D    Cherbourg   yes  False\n",
       "102         0       1    male  21.00      0      1   77.2875        S   First    man        True    D  Southampton    no  False\n",
       "110         0       1    male  47.00      0      0   52.0000        S   First    man        True    C  Southampton    no   True\n",
       "118         0       1    male  24.00      0      1  247.5208        C   First    man        True    B    Cherbourg    no  False\n",
       "123         1       2  female  32.50      0      0   13.0000        S  Second  woman       False    E  Southampton   yes   True\n",
       "124         0       1    male  54.00      0      1   77.2875        S   First    man        True    D  Southampton    no  False\n",
       "136         1       1  female  19.00      0      2   26.2833        S   First  woman       False    D  Southampton   yes  False\n",
       "137         0       1    male  37.00      1      0   53.1000        S   First    man        True    C  Southampton    no  False\n",
       "139         0       1    male  24.00      0      0   79.2000        C   First    man        True    B    Cherbourg    no   True\n",
       "148         0       2    male  36.50      0      2   26.0000        S  Second    man        True    F  Southampton    no  False\n",
       "151         1       1  female  22.00      1      0   66.6000        S   First  woman       False    C  Southampton   yes  False\n",
       "170         0       1    male  61.00      0      0   33.5000        S   First    man        True    B  Southampton    no   True\n",
       "174         0       1    male  56.00      0      0   30.6958        C   First    man        True    A    Cherbourg    no   True\n",
       "177         0       1  female  50.00      0      0   28.7125        C   First  woman       False    C    Cherbourg    no   True\n",
       "183         1       2    male   1.00      2      1   39.0000        S  Second  child       False    F  Southampton   yes  False\n",
       "193         1       2    male   3.00      1      1   26.0000        S  Second  child       False    F  Southampton   yes  False\n",
       "194         1       1  female  44.00      0      0   27.7208        C   First  woman       False    B    Cherbourg   yes   True\n",
       "195         1       1  female  58.00      0      0  146.5208        C   First  woman       False    B    Cherbourg   yes   True\n",
       "205         0       3  female   2.00      0      1   10.4625        S   Third  child       False    G  Southampton    no  False\n",
       "209         1       1    male  40.00      0      0   31.0000        C   First    man        True    A    Cherbourg   yes   True\n",
       "215         1       1  female  31.00      1      0  113.2750        C   First  woman       False    D    Cherbourg   yes  False\n",
       "218         1       1  female  32.00      0      0   76.2917        C   First  woman       False    D    Cherbourg   yes   True\n",
       "224         1       1    male  38.00      1      0   90.0000        S   First    man        True    C  Southampton   yes  False\n",
       "230         1       1  female  35.00      1      0   83.4750        S   First  woman       False    C  Southampton   yes  False\n",
       "245         0       1    male  44.00      2      0   90.0000        Q   First    man        True    C   Queenstown    no  False\n",
       "248         1       1    male  37.00      1      1   52.5542        S   First    man        True    D  Southampton   yes  False\n",
       "251         0       3  female  29.00      1      1   10.4625        S   Third  woman       False    G  Southampton    no  False\n",
       "252         0       1    male  62.00      0      0   26.5500        S   First    man        True    C  Southampton    no   True\n",
       "257         1       1  female  30.00      0      0   86.5000        S   First  woman       False    B  Southampton   yes   True\n",
       "262         0       1    male  52.00      1      1   79.6500        S   First    man        True    E  Southampton    no  False\n",
       "263         0       1    male  40.00      0      0    0.0000        S   First    man        True    B  Southampton    no   True\n",
       "268         1       1  female  58.00      0      1  153.4625        S   First  woman       False    C  Southampton   yes  False\n",
       "269         1       1  female  35.00      0      0  135.6333        S   First  woman       False    C  Southampton   yes   True\n",
       "273         0       1    male  37.00      0      1   29.7000        C   First    man        True    C    Cherbourg    no  False\n",
       "275         1       1  female  63.00      1      0   77.9583        S   First  woman       False    D  Southampton   yes  False\n",
       "291         1       1  female  19.00      1      0   91.0792        C   First  woman       False    B    Cherbourg   yes  False\n",
       "292         0       2    male  36.00      0      0   12.8750        C  Second    man        True    D    Cherbourg    no   True\n",
       "297         0       1  female   2.00      1      2  151.5500        S   First  child       False    C  Southampton    no  False\n",
       "299         1       1  female  50.00      0      1  247.5208        C   First  woman       False    B    Cherbourg   yes  False\n",
       "305         1       1    male   0.92      1      2  151.5500        S   First  child       False    C  Southampton   yes  False\n",
       "307         1       1  female  17.00      1      0  108.9000        C   First  woman       False    C    Cherbourg   yes  False\n",
       "309         1       1  female  30.00      0      0   56.9292        C   First  woman       False    E    Cherbourg   yes   True\n",
       "310         1       1  female  24.00      0      0   83.1583        C   First  woman       False    C    Cherbourg   yes   True\n",
       "311         1       1  female  18.00      2      2  262.3750        C   First  woman       False    B    Cherbourg   yes  False\n",
       "318         1       1  female  31.00      0      2  164.8667        S   First  woman       False    C  Southampton   yes  False\n",
       "319         1       1  female  40.00      1      1  134.5000        C   First  woman       False    E    Cherbourg   yes  False\n",
       "325         1       1  female  36.00      0      0  135.6333        C   First  woman       False    C    Cherbourg   yes   True\n",
       "327         1       2  female  36.00      0      0   13.0000        S  Second  woman       False    D  Southampton   yes   True\n",
       "329         1       1  female  16.00      0      1   57.9792        C   First  woman       False    B    Cherbourg   yes  False\n",
       "331         0       1    male  45.50      0      0   28.5000        S   First    man        True    C  Southampton    no   True\n",
       "332         0       1    male  38.00      0      1  153.4625        S   First    man        True    C  Southampton    no  False\n",
       "336         0       1    male  29.00      1      0   66.6000        S   First    man        True    C  Southampton    no  False\n",
       "337         1       1  female  41.00      0      0  134.5000        C   First  woman       False    E    Cherbourg   yes   True\n",
       "340         1       2    male   2.00      1      1   26.0000        S  Second  child       False    F  Southampton   yes  False\n",
       "341         1       1  female  24.00      3      2  263.0000        S   First  woman       False    C  Southampton   yes  False\n",
       "345         1       2  female  24.00      0      0   13.0000        S  Second  woman       False    F  Southampton   yes   True\n",
       "356         1       1  female  22.00      0      1   55.0000        S   First  woman       False    E  Southampton   yes  False\n",
       "366         1       1  female  60.00      1      0   75.2500        C   First  woman       False    D    Cherbourg   yes  False\n",
       "369         1       1  female  24.00      0      0   69.3000        C   First  woman       False    B    Cherbourg   yes   True\n",
       "370         1       1    male  25.00      1      0   55.4417        C   First    man        True    E    Cherbourg   yes  False\n",
       "377         0       1    male  27.00      0      2  211.5000        C   First    man        True    C    Cherbourg    no  False\n",
       "390         1       1    male  36.00      1      2  120.0000        S   First    man        True    B  Southampton   yes  False\n",
       "393         1       1  female  23.00      1      0  113.2750        C   First  woman       False    D    Cherbourg   yes  False\n",
       "394         1       3  female  24.00      0      2   16.7000        S   Third  woman       False    G  Southampton   yes  False\n",
       "412         1       1  female  33.00      1      0   90.0000        Q   First  woman       False    C   Queenstown   yes  False\n",
       "429         1       3    male  32.00      0      0    8.0500        S   Third    man        True    E  Southampton   yes   True\n",
       "430         1       1    male  28.00      0      0   26.5500        S   First    man        True    C  Southampton   yes   True\n",
       "434         0       1    male  50.00      1      0   55.9000        S   First    man        True    E  Southampton    no  False\n",
       "435         1       1  female  14.00      1      2  120.0000        S   First  child       False    B  Southampton   yes  False\n",
       "438         0       1    male  64.00      1      4  263.0000        S   First    man        True    C  Southampton    no  False\n",
       "445         1       1    male   4.00      0      2   81.8583        S   First  child       False    A  Southampton   yes  False\n",
       "449         1       1    male  52.00      0      0   30.5000        S   First    man        True    C  Southampton   yes   True\n",
       "452         0       1    male  30.00      0      0   27.7500        C   First    man        True    C    Cherbourg    no   True\n",
       "453         1       1    male  49.00      1      0   89.1042        C   First    man        True    C    Cherbourg   yes  False\n",
       "456         0       1    male  65.00      0      0   26.5500        S   First    man        True    E  Southampton    no   True\n",
       "460         1       1    male  48.00      0      0   26.5500        S   First    man        True    E  Southampton   yes   True\n",
       "462         0       1    male  47.00      0      0   38.5000        S   First    man        True    E  Southampton    no   True\n",
       "473         1       2  female  23.00      0      0   13.7917        C  Second  woman       False    D    Cherbourg   yes   True\n",
       "484         1       1    male  25.00      1      0   91.0792        C   First    man        True    B    Cherbourg   yes  False\n",
       "486         1       1  female  35.00      1      0   90.0000        S   First  woman       False    C  Southampton   yes  False\n",
       "487         0       1    male  58.00      0      0   29.7000        C   First    man        True    B    Cherbourg    no   True\n",
       "492         0       1    male  55.00      0      0   30.5000        S   First    man        True    C  Southampton    no   True\n",
       "496         1       1  female  54.00      1      0   78.2667        C   First  woman       False    D    Cherbourg   yes  False\n",
       "498         0       1  female  25.00      1      2  151.5500        S   First  woman       False    C  Southampton    no  False\n",
       "504         1       1  female  16.00      0      0   86.5000        S   First  woman       False    B  Southampton   yes   True\n",
       "505         0       1    male  18.00      1      0  108.9000        C   First    man        True    C    Cherbourg    no  False\n",
       "512         1       1    male  36.00      0      0   26.2875        S   First    man        True    E  Southampton   yes   True\n",
       "515         0       1    male  47.00      0      0   34.0208        S   First    man        True    D  Southampton    no   True\n",
       "516         1       2  female  34.00      0      0   10.5000        S  Second  woman       False    F  Southampton   yes   True\n",
       "520         1       1  female  30.00      0      0   93.5000        S   First  woman       False    B  Southampton   yes   True\n",
       "523         1       1  female  44.00      0      1   57.9792        C   First  woman       False    B    Cherbourg   yes  False\n",
       "536         0       1    male  45.00      0      0   26.5500        S   First    man        True    B  Southampton    no   True\n",
       "539         1       1  female  22.00      0      2   49.5000        C   First  woman       False    B    Cherbourg   yes  False\n",
       "540         1       1  female  36.00      0      2   71.0000        S   First  woman       False    B  Southampton   yes  False\n",
       "544         0       1    male  50.00      1      0  106.4250        C   First    man        True    C    Cherbourg    no  False\n",
       "550         1       1    male  17.00      0      2  110.8833        C   First    man        True    C    Cherbourg   yes  False\n",
       "556         1       1  female  48.00      1      0   39.6000        C   First  woman       False    A    Cherbourg   yes  False\n",
       "558         1       1  female  39.00      1      1   79.6500        S   First  woman       False    E  Southampton   yes  False\n",
       "571         1       1  female  53.00      2      0   51.4792        S   First  woman       False    C  Southampton   yes  False\n",
       "572         1       1    male  36.00      0      0   26.3875        S   First    man        True    E  Southampton   yes   True\n",
       "577         1       1  female  39.00      1      0   55.9000        S   First  woman       False    E  Southampton   yes  False\n",
       "581         1       1  female  39.00      1      1  110.8833        C   First  woman       False    C    Cherbourg   yes  False\n",
       "583         0       1    male  36.00      0      0   40.1250        C   First    man        True    A    Cherbourg    no   True\n",
       "585         1       1  female  18.00      0      2   79.6500        S   First  woman       False    E  Southampton   yes  False\n",
       "587         1       1    male  60.00      1      1   79.2000        C   First    man        True    B    Cherbourg   yes  False\n",
       "591         1       1  female  52.00      1      0   78.2667        C   First  woman       False    D    Cherbourg   yes  False\n",
       "599         1       1    male  49.00      1      0   56.9292        C   First    man        True    A    Cherbourg   yes  False\n",
       "609         1       1  female  40.00      0      0  153.4625        S   First  woman       False    C  Southampton   yes   True\n",
       "618         1       2  female   4.00      2      1   39.0000        S  Second  child       False    F  Southampton   yes  False\n",
       "621         1       1    male  42.00      1      0   52.5542        S   First    man        True    D  Southampton   yes  False\n",
       "625         0       1    male  61.00      0      0   32.3208        S   First    man        True    D  Southampton    no   True\n",
       "627         1       1  female  21.00      0      0   77.9583        S   First  woman       False    D  Southampton   yes   True\n",
       "630         1       1    male  80.00      0      0   30.0000        S   First    man        True    A  Southampton   yes   True\n",
       "632         1       1    male  32.00      0      0   30.5000        C   First    man        True    B    Cherbourg   yes   True\n",
       "641         1       1  female  24.00      0      0   69.3000        C   First  woman       False    B    Cherbourg   yes   True\n",
       "645         1       1    male  48.00      1      0   76.7292        C   First    man        True    D    Cherbourg   yes  False\n",
       "647         1       1    male  56.00      0      0   35.5000        C   First    man        True    A    Cherbourg   yes   True\n",
       "659         0       1    male  58.00      0      2  113.2750        C   First    man        True    D    Cherbourg    no  False\n",
       "662         0       1    male  47.00      0      0   25.5875        S   First    man        True    E  Southampton    no   True\n",
       "671         0       1    male  31.00      1      0   52.0000        S   First    man        True    B  Southampton    no  False\n",
       "679         1       1    male  36.00      0      1  512.3292        C   First    man        True    B    Cherbourg   yes  False\n",
       "681         1       1    male  27.00      0      0   76.7292        C   First    man        True    D    Cherbourg   yes   True\n",
       "689         1       1  female  15.00      0      1  211.3375        S   First  child       False    B  Southampton   yes  False\n",
       "690         1       1    male  31.00      1      0   57.0000        S   First    man        True    B  Southampton   yes  False\n",
       "698         0       1    male  49.00      1      1  110.8833        C   First    man        True    C    Cherbourg    no  False\n",
       "699         0       3    male  42.00      0      0    7.6500        S   Third    man        True    F  Southampton    no   True\n",
       "700         1       1  female  18.00      1      0  227.5250        C   First  woman       False    C    Cherbourg   yes  False\n",
       "701         1       1    male  35.00      0      0   26.2875        S   First    man        True    E  Southampton   yes   True\n",
       "707         1       1    male  42.00      0      0   26.2875        S   First    man        True    E  Southampton   yes   True\n",
       "710         1       1  female  24.00      0      0   49.5042        C   First  woman       False    C    Cherbourg   yes   True\n",
       "712         1       1    male  48.00      1      0   52.0000        S   First    man        True    C  Southampton   yes  False\n",
       "715         0       3    male  19.00      0      0    7.6500        S   Third    man        True    F  Southampton    no   True\n",
       "716         1       1  female  38.00      0      0  227.5250        C   First  woman       False    C    Cherbourg   yes   True\n",
       "717         1       2  female  27.00      0      0   10.5000        S  Second  woman       False    E  Southampton   yes   True\n",
       "724         1       1    male  27.00      1      0   53.1000        S   First    man        True    E  Southampton   yes  False\n",
       "730         1       1  female  29.00      0      0  211.3375        S   First  woman       False    B  Southampton   yes   True\n",
       "737         1       1    male  35.00      0      0  512.3292        C   First    man        True    B    Cherbourg   yes   True\n",
       "741         0       1    male  36.00      1      0   78.8500        S   First    man        True    C  Southampton    no  False\n",
       "742         1       1  female  21.00      2      2  262.3750        C   First  woman       False    B    Cherbourg   yes  False\n",
       "745         0       1    male  70.00      1      1   71.0000        S   First    man        True    B  Southampton    no  False\n",
       "748         0       1    male  19.00      1      0   53.1000        S   First    man        True    D  Southampton    no  False\n",
       "751         1       3    male   6.00      0      1   12.4750        S   Third  child       False    E  Southampton   yes  False\n",
       "759         1       1  female  33.00      0      0   86.5000        S   First  woman       False    B  Southampton   yes   True\n",
       "763         1       1  female  36.00      1      2  120.0000        S   First  woman       False    B  Southampton   yes  False\n",
       "765         1       1  female  51.00      1      0   77.9583        S   First  woman       False    D  Southampton   yes  False\n",
       "772         0       2  female  57.00      0      0   10.5000        S  Second  woman       False    E  Southampton    no   True\n",
       "779         1       1  female  43.00      0      1  211.3375        S   First  woman       False    B  Southampton   yes  False\n",
       "781         1       1  female  17.00      1      0   57.0000        S   First  woman       False    B  Southampton   yes  False\n",
       "782         0       1    male  29.00      0      0   30.0000        S   First    man        True    D  Southampton    no   True\n",
       "789         0       1    male  46.00      0      0   79.2000        C   First    man        True    B    Cherbourg    no   True\n",
       "796         1       1  female  49.00      0      0   25.9292        S   First  woman       False    D  Southampton   yes   True\n",
       "802         1       1    male  11.00      1      2  120.0000        S   First  child       False    B  Southampton   yes  False\n",
       "806         0       1    male  39.00      0      0    0.0000        S   First    man        True    A  Southampton    no   True\n",
       "809         1       1  female  33.00      1      0   53.1000        S   First  woman       False    E  Southampton   yes  False\n",
       "820         1       1  female  52.00      1      1   93.5000        S   First  woman       False    B  Southampton   yes  False\n",
       "823         1       3  female  27.00      0      1   12.4750        S   Third  woman       False    E  Southampton   yes  False\n",
       "835         1       1  female  39.00      1      1   83.1583        C   First  woman       False    E    Cherbourg   yes  False\n",
       "853         1       1  female  16.00      0      1   39.4000        S   First  woman       False    D  Southampton   yes  False\n",
       "857         1       1    male  51.00      0      0   26.5500        S   First    man        True    E  Southampton   yes   True\n",
       "862         1       1  female  48.00      0      0   25.9292        S   First  woman       False    D  Southampton   yes   True\n",
       "867         0       1    male  31.00      0      0   50.4958        S   First    man        True    A  Southampton    no   True\n",
       "871         1       1  female  47.00      1      1   52.5542        S   First  woman       False    D  Southampton   yes  False\n",
       "872         0       1    male  33.00      0      0    5.0000        S   First    man        True    B  Southampton    no   True\n",
       "879         1       1  female  56.00      0      1   83.1583        C   First  woman       False    C    Cherbourg   yes  False\n",
       "887         1       1  female  19.00      0      0   30.0000        S   First  woman       False    B  Southampton   yes   True\n",
       "889         1       1    male  26.00      0      0   30.0000        C   First    man        True    C    Cherbourg   yes   True"
      ]
     },
     "execution_count": 39,
     "metadata": {},
     "output_type": "execute_result"
    },
    {
     "data": {
      "image/png": "[encoded data removed]",
      "text/plain": [
       "<Figure size 1800x720 with 3 Axes>"
      ]
     },
     "metadata": {
      "needs_background": "light"
     },
     "output_type": "display_data"
    }
   ],
   "source": [
    "import missingno\n",
    "\n",
    "\n",
    "def visualize_missing(df):\n",
    "    missingno.bar(df.pandas_df)\n",
    "\n",
    "\n",
    "df + dp.side_effect(visualize_missing) + dp.drop_na() + dp.write_file(\"output.csv\")"
   ]
  },
  {
   "cell_type": "code",
   "execution_count": null,
   "metadata": {},
   "outputs": [],
   "source": []
  }
 ],
 "metadata": {
  "interpreter": {
   "hash": "40d3a090f54c6569ab1632332b64b2c03c39dcf918b08424e98f38b5ae0af88f"
  },
  "kernelspec": {
   "display_name": "Python 3",
   "language": "python",
   "name": "python3"
  },
  "language_info": {
   "codemirror_mode": {
    "name": "ipython",
    "version": 3
   },
   "file_extension": ".py",
   "mimetype": "text/x-python",
   "name": "python",
   "nbconvert_exporter": "python",
   "pygments_lexer": "ipython3",
   "version": "3.8.5"
  }
 },
 "nbformat": 4,
 "nbformat_minor": 2
}
